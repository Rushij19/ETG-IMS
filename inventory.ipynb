{
 "cells": [
  {
   "cell_type": "markdown",
   "id": "f6fa036c",
   "metadata": {},
   "source": [
    "# Inventory Management System With Json"
   ]
  },
  {
   "cell_type": "markdown",
   "id": "65f67b7a",
   "metadata": {},
   "source": [
    "## Import Libraries"
   ]
  },
  {
   "cell_type": "code",
   "execution_count": 1,
   "id": "342b2560",
   "metadata": {},
   "outputs": [],
   "source": [
    "import json\n",
    "import time"
   ]
  },
  {
   "cell_type": "markdown",
   "id": "05587a08",
   "metadata": {},
   "source": [
    "## Create Inventory"
   ]
  },
  {
   "cell_type": "code",
   "execution_count": 2,
   "id": "0e8629a2",
   "metadata": {},
   "outputs": [],
   "source": [
    "inventory={101:{'prod_name':'chocolate', 'price':10, 'quantity':200, 'brand':'cadburry', 'category':'chocolate'},\n",
    "           102:{'prod_name':'soft drink', 'price':20, 'quantity':80, 'brand':'coca-cola', 'category':'bevarage'},\n",
    "           103:{'prod_name':'Chips', 'price':15, 'quantity':200, 'brand':'lays', 'category':'snacks'},\n",
    "           104:{'prod_name':'chocolate cake', 'price':500, 'quantity':10, 'brand':'monginis', 'category':'bakery'},\n",
    "           105:{'prod_name':'cofee', 'price':40, 'quantity':100, 'brand':'nes-cafe', 'category':'bevarage'},\n",
    "           106:{'prod_name':'almonds packet', 'price':200, 'quantity':50, 'brand':'sofit', 'category':'dry fruits'},\n",
    "           107:{'prod_name':'milk chocolates', 'price':15, 'quantity':50, 'brand':'milkibar', 'category':'chocolate'},\n",
    "           108:{'prod_name':'jelly', 'price':5, 'quantity':500, 'brand':'jelly bites', 'category':'candies'},\n",
    "           109:{'prod_name':'fruit juice', 'price':40, 'quantity':50, 'brand':'fruity', 'category':'bevarage'},\n",
    "           110:{'prod_name':'bread', 'price':30, 'quantity':20, 'brand':'britania', 'category':'bakery'},\n",
    "           111:{'prod_name':'soyasticks', 'price':80, 'quantity':50, 'brand':'haldiram', 'category':'snacks'},\n",
    "           112:{'prod_name':'mints', 'price':10, 'quantity':200, 'brand':'mentos', 'category':'candies'},\n",
    "           113:{'prod_name':'coconut milk', 'price':45, 'quantity':30, 'brand':'dabur', 'category':'bevarage'},\n",
    "           114:{'prod_name':'oreo biscuits', 'price':10, 'quantity':100, 'brand':'oreo', 'category':'biscuits'},\n",
    "           115:{'prod_name':'dark chocolates', 'price':20, 'quantity':50, 'brand':'bournville', 'category':'chocolate'},\n",
    "           116:{'prod_name':'berries', 'price':150, 'quantity':80, 'brand':'berry', 'category':'dry fruits'},\n",
    "           117:{'prod_name':'peanuts', 'price':100, 'quantity':100, 'brand':'dabur', 'category':'dry fruits'},\n",
    "           118:{'prod_name':'milk powder', 'price':40, 'quantity':25, 'brand':'nestle', 'category':'bakery'},\n",
    "           119:{'prod_name':'maggy', 'price':12, 'quantity':250, 'brand':'nestle', 'category':'snacks'},\n",
    "           120:{'prod_name':'lollipops', 'price':10, 'quantity':500, 'brand':'popon', 'category':'candies'},\n",
    "           121:{'prod_name':'belgian chocolate', 'price':40, 'quantity':50, 'brand':'walkers', 'category':'chocolate'},\n",
    "           122:{'prod_name':'milano', 'price':50, 'quantity':50, 'brand':'parle', 'category':'biscuits'},\n",
    "           123:{'prod_name':'energy drinks', 'price':30, 'quantity':70, 'brand':'gatorade', 'category':'bevarage'},\n",
    "           124:{'prod_name':'dates', 'price':50, 'quantity':100, 'brand':'lion', 'category':'dry fruits'},\n",
    "           125:{'prod_name':'dryfruit chocolate', 'price':30, 'quantity':20, 'brand':'britania', 'cadburry':'chocolate'},\n",
    "           126:{'prod_name':'fruit chews', 'price':10, 'quantity':50, 'brand':'jolly', 'category':'candies'},\n",
    "           127:{'prod_name':'swiss chocolates', 'price':45, 'quantity':25, 'brand':'lindt', 'category':'chocolate'},\n",
    "           128:{'prod_name':'mango juice', 'price':20, 'quantity':100, 'brand':'slice', 'category':'bevarage'},\n",
    "           129:{'prod_name':'chocolate biscuits', 'price':20, 'quantity':200, 'brand':'sunfeast', 'category':'biscuits'},\n",
    "           130:{'prod_name':'muffins', 'price':50, 'quantity':40, 'brand':'little bites', 'category':'bakery'},\n",
    "          }"
   ]
  },
  {
   "cell_type": "code",
   "execution_count": 3,
   "id": "905d47bd",
   "metadata": {},
   "outputs": [
    {
     "data": {
      "text/plain": [
       "{101: {'prod_name': 'chocolate',\n",
       "  'price': 10,\n",
       "  'quantity': 200,\n",
       "  'brand': 'cadburry',\n",
       "  'category': 'chocolate'},\n",
       " 102: {'prod_name': 'soft drink',\n",
       "  'price': 20,\n",
       "  'quantity': 80,\n",
       "  'brand': 'coca-cola',\n",
       "  'category': 'bevarage'},\n",
       " 103: {'prod_name': 'Chips',\n",
       "  'price': 15,\n",
       "  'quantity': 200,\n",
       "  'brand': 'lays',\n",
       "  'category': 'snacks'},\n",
       " 104: {'prod_name': 'chocolate cake',\n",
       "  'price': 500,\n",
       "  'quantity': 10,\n",
       "  'brand': 'monginis',\n",
       "  'category': 'bakery'},\n",
       " 105: {'prod_name': 'cofee',\n",
       "  'price': 40,\n",
       "  'quantity': 100,\n",
       "  'brand': 'nes-cafe',\n",
       "  'category': 'bevarage'},\n",
       " 106: {'prod_name': 'almonds packet',\n",
       "  'price': 200,\n",
       "  'quantity': 50,\n",
       "  'brand': 'sofit',\n",
       "  'category': 'dry fruits'},\n",
       " 107: {'prod_name': 'milk chocolates',\n",
       "  'price': 15,\n",
       "  'quantity': 50,\n",
       "  'brand': 'milkibar',\n",
       "  'category': 'chocolate'},\n",
       " 108: {'prod_name': 'jelly',\n",
       "  'price': 5,\n",
       "  'quantity': 500,\n",
       "  'brand': 'jelly bites',\n",
       "  'category': 'candies'},\n",
       " 109: {'prod_name': 'fruit juice',\n",
       "  'price': 40,\n",
       "  'quantity': 50,\n",
       "  'brand': 'fruity',\n",
       "  'category': 'bevarage'},\n",
       " 110: {'prod_name': 'bread',\n",
       "  'price': 30,\n",
       "  'quantity': 20,\n",
       "  'brand': 'britania',\n",
       "  'category': 'bakery'},\n",
       " 111: {'prod_name': 'soyasticks',\n",
       "  'price': 80,\n",
       "  'quantity': 50,\n",
       "  'brand': 'haldiram',\n",
       "  'category': 'snacks'},\n",
       " 112: {'prod_name': 'mints',\n",
       "  'price': 10,\n",
       "  'quantity': 200,\n",
       "  'brand': 'mentos',\n",
       "  'category': 'candies'},\n",
       " 113: {'prod_name': 'coconut milk',\n",
       "  'price': 45,\n",
       "  'quantity': 30,\n",
       "  'brand': 'dabur',\n",
       "  'category': 'bevarage'},\n",
       " 114: {'prod_name': 'oreo biscuits',\n",
       "  'price': 10,\n",
       "  'quantity': 100,\n",
       "  'brand': 'oreo',\n",
       "  'category': 'biscuits'},\n",
       " 115: {'prod_name': 'dark chocolates',\n",
       "  'price': 20,\n",
       "  'quantity': 50,\n",
       "  'brand': 'bournville',\n",
       "  'category': 'chocolate'},\n",
       " 116: {'prod_name': 'berries',\n",
       "  'price': 150,\n",
       "  'quantity': 80,\n",
       "  'brand': 'berry',\n",
       "  'category': 'dry fruits'},\n",
       " 117: {'prod_name': 'peanuts',\n",
       "  'price': 100,\n",
       "  'quantity': 100,\n",
       "  'brand': 'dabur',\n",
       "  'category': 'dry fruits'},\n",
       " 118: {'prod_name': 'milk powder',\n",
       "  'price': 40,\n",
       "  'quantity': 25,\n",
       "  'brand': 'nestle',\n",
       "  'category': 'bakery'},\n",
       " 119: {'prod_name': 'maggy',\n",
       "  'price': 12,\n",
       "  'quantity': 250,\n",
       "  'brand': 'nestle',\n",
       "  'category': 'snacks'},\n",
       " 120: {'prod_name': 'lollipops',\n",
       "  'price': 10,\n",
       "  'quantity': 500,\n",
       "  'brand': 'popon',\n",
       "  'category': 'candies'},\n",
       " 121: {'prod_name': 'belgian chocolate',\n",
       "  'price': 40,\n",
       "  'quantity': 50,\n",
       "  'brand': 'walkers',\n",
       "  'category': 'chocolate'},\n",
       " 122: {'prod_name': 'milano',\n",
       "  'price': 50,\n",
       "  'quantity': 50,\n",
       "  'brand': 'parle',\n",
       "  'category': 'biscuits'},\n",
       " 123: {'prod_name': 'energy drinks',\n",
       "  'price': 30,\n",
       "  'quantity': 70,\n",
       "  'brand': 'gatorade',\n",
       "  'category': 'bevarage'},\n",
       " 124: {'prod_name': 'dates',\n",
       "  'price': 50,\n",
       "  'quantity': 100,\n",
       "  'brand': 'lion',\n",
       "  'category': 'dry fruits'},\n",
       " 125: {'prod_name': 'dryfruit chocolate',\n",
       "  'price': 30,\n",
       "  'quantity': 20,\n",
       "  'brand': 'britania',\n",
       "  'cadburry': 'chocolate'},\n",
       " 126: {'prod_name': 'fruit chews',\n",
       "  'price': 10,\n",
       "  'quantity': 50,\n",
       "  'brand': 'jolly',\n",
       "  'category': 'candies'},\n",
       " 127: {'prod_name': 'swiss chocolates',\n",
       "  'price': 45,\n",
       "  'quantity': 25,\n",
       "  'brand': 'lindt',\n",
       "  'category': 'chocolate'},\n",
       " 128: {'prod_name': 'mango juice',\n",
       "  'price': 20,\n",
       "  'quantity': 100,\n",
       "  'brand': 'slice',\n",
       "  'category': 'bevarage'},\n",
       " 129: {'prod_name': 'chocolate biscuits',\n",
       "  'price': 20,\n",
       "  'quantity': 200,\n",
       "  'brand': 'sunfeast',\n",
       "  'category': 'biscuits'},\n",
       " 130: {'prod_name': 'muffins',\n",
       "  'price': 50,\n",
       "  'quantity': 40,\n",
       "  'brand': 'little bites',\n",
       "  'category': 'bakery'}}"
      ]
     },
     "execution_count": 3,
     "metadata": {},
     "output_type": "execute_result"
    }
   ],
   "source": [
    "inventory"
   ]
  },
  {
   "cell_type": "markdown",
   "id": "ed4c8029",
   "metadata": {},
   "source": [
    "## Converting dictionary into json file"
   ]
  },
  {
   "cell_type": "code",
   "execution_count": 4,
   "id": "966b5a3c",
   "metadata": {},
   "outputs": [],
   "source": [
    "inv=json.dumps(inventory)"
   ]
  },
  {
   "cell_type": "code",
   "execution_count": 5,
   "id": "e3092ac7",
   "metadata": {},
   "outputs": [
    {
     "data": {
      "text/plain": [
       "'{\"101\": {\"prod_name\": \"chocolate\", \"price\": 10, \"quantity\": 200, \"brand\": \"cadburry\", \"category\": \"chocolate\"}, \"102\": {\"prod_name\": \"soft drink\", \"price\": 20, \"quantity\": 80, \"brand\": \"coca-cola\", \"category\": \"bevarage\"}, \"103\": {\"prod_name\": \"Chips\", \"price\": 15, \"quantity\": 200, \"brand\": \"lays\", \"category\": \"snacks\"}, \"104\": {\"prod_name\": \"chocolate cake\", \"price\": 500, \"quantity\": 10, \"brand\": \"monginis\", \"category\": \"bakery\"}, \"105\": {\"prod_name\": \"cofee\", \"price\": 40, \"quantity\": 100, \"brand\": \"nes-cafe\", \"category\": \"bevarage\"}, \"106\": {\"prod_name\": \"almonds packet\", \"price\": 200, \"quantity\": 50, \"brand\": \"sofit\", \"category\": \"dry fruits\"}, \"107\": {\"prod_name\": \"milk chocolates\", \"price\": 15, \"quantity\": 50, \"brand\": \"milkibar\", \"category\": \"chocolate\"}, \"108\": {\"prod_name\": \"jelly\", \"price\": 5, \"quantity\": 500, \"brand\": \"jelly bites\", \"category\": \"candies\"}, \"109\": {\"prod_name\": \"fruit juice\", \"price\": 40, \"quantity\": 50, \"brand\": \"fruity\", \"category\": \"bevarage\"}, \"110\": {\"prod_name\": \"bread\", \"price\": 30, \"quantity\": 20, \"brand\": \"britania\", \"category\": \"bakery\"}, \"111\": {\"prod_name\": \"soyasticks\", \"price\": 80, \"quantity\": 50, \"brand\": \"haldiram\", \"category\": \"snacks\"}, \"112\": {\"prod_name\": \"mints\", \"price\": 10, \"quantity\": 200, \"brand\": \"mentos\", \"category\": \"candies\"}, \"113\": {\"prod_name\": \"coconut milk\", \"price\": 45, \"quantity\": 30, \"brand\": \"dabur\", \"category\": \"bevarage\"}, \"114\": {\"prod_name\": \"oreo biscuits\", \"price\": 10, \"quantity\": 100, \"brand\": \"oreo\", \"category\": \"biscuits\"}, \"115\": {\"prod_name\": \"dark chocolates\", \"price\": 20, \"quantity\": 50, \"brand\": \"bournville\", \"category\": \"chocolate\"}, \"116\": {\"prod_name\": \"berries\", \"price\": 150, \"quantity\": 80, \"brand\": \"berry\", \"category\": \"dry fruits\"}, \"117\": {\"prod_name\": \"peanuts\", \"price\": 100, \"quantity\": 100, \"brand\": \"dabur\", \"category\": \"dry fruits\"}, \"118\": {\"prod_name\": \"milk powder\", \"price\": 40, \"quantity\": 25, \"brand\": \"nestle\", \"category\": \"bakery\"}, \"119\": {\"prod_name\": \"maggy\", \"price\": 12, \"quantity\": 250, \"brand\": \"nestle\", \"category\": \"snacks\"}, \"120\": {\"prod_name\": \"lollipops\", \"price\": 10, \"quantity\": 500, \"brand\": \"popon\", \"category\": \"candies\"}, \"121\": {\"prod_name\": \"belgian chocolate\", \"price\": 40, \"quantity\": 50, \"brand\": \"walkers\", \"category\": \"chocolate\"}, \"122\": {\"prod_name\": \"milano\", \"price\": 50, \"quantity\": 50, \"brand\": \"parle\", \"category\": \"biscuits\"}, \"123\": {\"prod_name\": \"energy drinks\", \"price\": 30, \"quantity\": 70, \"brand\": \"gatorade\", \"category\": \"bevarage\"}, \"124\": {\"prod_name\": \"dates\", \"price\": 50, \"quantity\": 100, \"brand\": \"lion\", \"category\": \"dry fruits\"}, \"125\": {\"prod_name\": \"dryfruit chocolate\", \"price\": 30, \"quantity\": 20, \"brand\": \"britania\", \"cadburry\": \"chocolate\"}, \"126\": {\"prod_name\": \"fruit chews\", \"price\": 10, \"quantity\": 50, \"brand\": \"jolly\", \"category\": \"candies\"}, \"127\": {\"prod_name\": \"swiss chocolates\", \"price\": 45, \"quantity\": 25, \"brand\": \"lindt\", \"category\": \"chocolate\"}, \"128\": {\"prod_name\": \"mango juice\", \"price\": 20, \"quantity\": 100, \"brand\": \"slice\", \"category\": \"bevarage\"}, \"129\": {\"prod_name\": \"chocolate biscuits\", \"price\": 20, \"quantity\": 200, \"brand\": \"sunfeast\", \"category\": \"biscuits\"}, \"130\": {\"prod_name\": \"muffins\", \"price\": 50, \"quantity\": 40, \"brand\": \"little bites\", \"category\": \"bakery\"}}'"
      ]
     },
     "execution_count": 5,
     "metadata": {},
     "output_type": "execute_result"
    }
   ],
   "source": [
    "inv"
   ]
  },
  {
   "cell_type": "code",
   "execution_count": 6,
   "id": "62c91016",
   "metadata": {},
   "outputs": [],
   "source": [
    "fd= open('inventory.txt','w')\n",
    "fd.write(inv)\n",
    "fd.close()"
   ]
  },
  {
   "cell_type": "code",
   "execution_count": 7,
   "id": "66e705c4",
   "metadata": {},
   "outputs": [],
   "source": [
    "fd=open('inventory.txt','r')\n",
    "data=fd.read()\n",
    "fd.close()"
   ]
  },
  {
   "cell_type": "code",
   "execution_count": 8,
   "id": "4844263b",
   "metadata": {},
   "outputs": [
    {
     "data": {
      "text/plain": [
       "'{\"101\": {\"prod_name\": \"chocolate\", \"price\": 10, \"quantity\": 200, \"brand\": \"cadburry\", \"category\": \"chocolate\"}, \"102\": {\"prod_name\": \"soft drink\", \"price\": 20, \"quantity\": 80, \"brand\": \"coca-cola\", \"category\": \"bevarage\"}, \"103\": {\"prod_name\": \"Chips\", \"price\": 15, \"quantity\": 200, \"brand\": \"lays\", \"category\": \"snacks\"}, \"104\": {\"prod_name\": \"chocolate cake\", \"price\": 500, \"quantity\": 10, \"brand\": \"monginis\", \"category\": \"bakery\"}, \"105\": {\"prod_name\": \"cofee\", \"price\": 40, \"quantity\": 100, \"brand\": \"nes-cafe\", \"category\": \"bevarage\"}, \"106\": {\"prod_name\": \"almonds packet\", \"price\": 200, \"quantity\": 50, \"brand\": \"sofit\", \"category\": \"dry fruits\"}, \"107\": {\"prod_name\": \"milk chocolates\", \"price\": 15, \"quantity\": 50, \"brand\": \"milkibar\", \"category\": \"chocolate\"}, \"108\": {\"prod_name\": \"jelly\", \"price\": 5, \"quantity\": 500, \"brand\": \"jelly bites\", \"category\": \"candies\"}, \"109\": {\"prod_name\": \"fruit juice\", \"price\": 40, \"quantity\": 50, \"brand\": \"fruity\", \"category\": \"bevarage\"}, \"110\": {\"prod_name\": \"bread\", \"price\": 30, \"quantity\": 20, \"brand\": \"britania\", \"category\": \"bakery\"}, \"111\": {\"prod_name\": \"soyasticks\", \"price\": 80, \"quantity\": 50, \"brand\": \"haldiram\", \"category\": \"snacks\"}, \"112\": {\"prod_name\": \"mints\", \"price\": 10, \"quantity\": 200, \"brand\": \"mentos\", \"category\": \"candies\"}, \"113\": {\"prod_name\": \"coconut milk\", \"price\": 45, \"quantity\": 30, \"brand\": \"dabur\", \"category\": \"bevarage\"}, \"114\": {\"prod_name\": \"oreo biscuits\", \"price\": 10, \"quantity\": 100, \"brand\": \"oreo\", \"category\": \"biscuits\"}, \"115\": {\"prod_name\": \"dark chocolates\", \"price\": 20, \"quantity\": 50, \"brand\": \"bournville\", \"category\": \"chocolate\"}, \"116\": {\"prod_name\": \"berries\", \"price\": 150, \"quantity\": 80, \"brand\": \"berry\", \"category\": \"dry fruits\"}, \"117\": {\"prod_name\": \"peanuts\", \"price\": 100, \"quantity\": 100, \"brand\": \"dabur\", \"category\": \"dry fruits\"}, \"118\": {\"prod_name\": \"milk powder\", \"price\": 40, \"quantity\": 25, \"brand\": \"nestle\", \"category\": \"bakery\"}, \"119\": {\"prod_name\": \"maggy\", \"price\": 12, \"quantity\": 250, \"brand\": \"nestle\", \"category\": \"snacks\"}, \"120\": {\"prod_name\": \"lollipops\", \"price\": 10, \"quantity\": 500, \"brand\": \"popon\", \"category\": \"candies\"}, \"121\": {\"prod_name\": \"belgian chocolate\", \"price\": 40, \"quantity\": 50, \"brand\": \"walkers\", \"category\": \"chocolate\"}, \"122\": {\"prod_name\": \"milano\", \"price\": 50, \"quantity\": 50, \"brand\": \"parle\", \"category\": \"biscuits\"}, \"123\": {\"prod_name\": \"energy drinks\", \"price\": 30, \"quantity\": 70, \"brand\": \"gatorade\", \"category\": \"bevarage\"}, \"124\": {\"prod_name\": \"dates\", \"price\": 50, \"quantity\": 100, \"brand\": \"lion\", \"category\": \"dry fruits\"}, \"125\": {\"prod_name\": \"dryfruit chocolate\", \"price\": 30, \"quantity\": 20, \"brand\": \"britania\", \"cadburry\": \"chocolate\"}, \"126\": {\"prod_name\": \"fruit chews\", \"price\": 10, \"quantity\": 50, \"brand\": \"jolly\", \"category\": \"candies\"}, \"127\": {\"prod_name\": \"swiss chocolates\", \"price\": 45, \"quantity\": 25, \"brand\": \"lindt\", \"category\": \"chocolate\"}, \"128\": {\"prod_name\": \"mango juice\", \"price\": 20, \"quantity\": 100, \"brand\": \"slice\", \"category\": \"bevarage\"}, \"129\": {\"prod_name\": \"chocolate biscuits\", \"price\": 20, \"quantity\": 200, \"brand\": \"sunfeast\", \"category\": \"biscuits\"}, \"130\": {\"prod_name\": \"muffins\", \"price\": 50, \"quantity\": 40, \"brand\": \"little bites\", \"category\": \"bakery\"}}'"
      ]
     },
     "execution_count": 8,
     "metadata": {},
     "output_type": "execute_result"
    }
   ],
   "source": [
    "data"
   ]
  },
  {
   "cell_type": "code",
   "execution_count": 9,
   "id": "738fdd88",
   "metadata": {},
   "outputs": [],
   "source": [
    "inventory=json.loads(data)"
   ]
  },
  {
   "cell_type": "code",
   "execution_count": 10,
   "id": "cb21bdc4",
   "metadata": {},
   "outputs": [
    {
     "data": {
      "text/plain": [
       "{'101': {'prod_name': 'chocolate',\n",
       "  'price': 10,\n",
       "  'quantity': 200,\n",
       "  'brand': 'cadburry',\n",
       "  'category': 'chocolate'},\n",
       " '102': {'prod_name': 'soft drink',\n",
       "  'price': 20,\n",
       "  'quantity': 80,\n",
       "  'brand': 'coca-cola',\n",
       "  'category': 'bevarage'},\n",
       " '103': {'prod_name': 'Chips',\n",
       "  'price': 15,\n",
       "  'quantity': 200,\n",
       "  'brand': 'lays',\n",
       "  'category': 'snacks'},\n",
       " '104': {'prod_name': 'chocolate cake',\n",
       "  'price': 500,\n",
       "  'quantity': 10,\n",
       "  'brand': 'monginis',\n",
       "  'category': 'bakery'},\n",
       " '105': {'prod_name': 'cofee',\n",
       "  'price': 40,\n",
       "  'quantity': 100,\n",
       "  'brand': 'nes-cafe',\n",
       "  'category': 'bevarage'},\n",
       " '106': {'prod_name': 'almonds packet',\n",
       "  'price': 200,\n",
       "  'quantity': 50,\n",
       "  'brand': 'sofit',\n",
       "  'category': 'dry fruits'},\n",
       " '107': {'prod_name': 'milk chocolates',\n",
       "  'price': 15,\n",
       "  'quantity': 50,\n",
       "  'brand': 'milkibar',\n",
       "  'category': 'chocolate'},\n",
       " '108': {'prod_name': 'jelly',\n",
       "  'price': 5,\n",
       "  'quantity': 500,\n",
       "  'brand': 'jelly bites',\n",
       "  'category': 'candies'},\n",
       " '109': {'prod_name': 'fruit juice',\n",
       "  'price': 40,\n",
       "  'quantity': 50,\n",
       "  'brand': 'fruity',\n",
       "  'category': 'bevarage'},\n",
       " '110': {'prod_name': 'bread',\n",
       "  'price': 30,\n",
       "  'quantity': 20,\n",
       "  'brand': 'britania',\n",
       "  'category': 'bakery'},\n",
       " '111': {'prod_name': 'soyasticks',\n",
       "  'price': 80,\n",
       "  'quantity': 50,\n",
       "  'brand': 'haldiram',\n",
       "  'category': 'snacks'},\n",
       " '112': {'prod_name': 'mints',\n",
       "  'price': 10,\n",
       "  'quantity': 200,\n",
       "  'brand': 'mentos',\n",
       "  'category': 'candies'},\n",
       " '113': {'prod_name': 'coconut milk',\n",
       "  'price': 45,\n",
       "  'quantity': 30,\n",
       "  'brand': 'dabur',\n",
       "  'category': 'bevarage'},\n",
       " '114': {'prod_name': 'oreo biscuits',\n",
       "  'price': 10,\n",
       "  'quantity': 100,\n",
       "  'brand': 'oreo',\n",
       "  'category': 'biscuits'},\n",
       " '115': {'prod_name': 'dark chocolates',\n",
       "  'price': 20,\n",
       "  'quantity': 50,\n",
       "  'brand': 'bournville',\n",
       "  'category': 'chocolate'},\n",
       " '116': {'prod_name': 'berries',\n",
       "  'price': 150,\n",
       "  'quantity': 80,\n",
       "  'brand': 'berry',\n",
       "  'category': 'dry fruits'},\n",
       " '117': {'prod_name': 'peanuts',\n",
       "  'price': 100,\n",
       "  'quantity': 100,\n",
       "  'brand': 'dabur',\n",
       "  'category': 'dry fruits'},\n",
       " '118': {'prod_name': 'milk powder',\n",
       "  'price': 40,\n",
       "  'quantity': 25,\n",
       "  'brand': 'nestle',\n",
       "  'category': 'bakery'},\n",
       " '119': {'prod_name': 'maggy',\n",
       "  'price': 12,\n",
       "  'quantity': 250,\n",
       "  'brand': 'nestle',\n",
       "  'category': 'snacks'},\n",
       " '120': {'prod_name': 'lollipops',\n",
       "  'price': 10,\n",
       "  'quantity': 500,\n",
       "  'brand': 'popon',\n",
       "  'category': 'candies'},\n",
       " '121': {'prod_name': 'belgian chocolate',\n",
       "  'price': 40,\n",
       "  'quantity': 50,\n",
       "  'brand': 'walkers',\n",
       "  'category': 'chocolate'},\n",
       " '122': {'prod_name': 'milano',\n",
       "  'price': 50,\n",
       "  'quantity': 50,\n",
       "  'brand': 'parle',\n",
       "  'category': 'biscuits'},\n",
       " '123': {'prod_name': 'energy drinks',\n",
       "  'price': 30,\n",
       "  'quantity': 70,\n",
       "  'brand': 'gatorade',\n",
       "  'category': 'bevarage'},\n",
       " '124': {'prod_name': 'dates',\n",
       "  'price': 50,\n",
       "  'quantity': 100,\n",
       "  'brand': 'lion',\n",
       "  'category': 'dry fruits'},\n",
       " '125': {'prod_name': 'dryfruit chocolate',\n",
       "  'price': 30,\n",
       "  'quantity': 20,\n",
       "  'brand': 'britania',\n",
       "  'cadburry': 'chocolate'},\n",
       " '126': {'prod_name': 'fruit chews',\n",
       "  'price': 10,\n",
       "  'quantity': 50,\n",
       "  'brand': 'jolly',\n",
       "  'category': 'candies'},\n",
       " '127': {'prod_name': 'swiss chocolates',\n",
       "  'price': 45,\n",
       "  'quantity': 25,\n",
       "  'brand': 'lindt',\n",
       "  'category': 'chocolate'},\n",
       " '128': {'prod_name': 'mango juice',\n",
       "  'price': 20,\n",
       "  'quantity': 100,\n",
       "  'brand': 'slice',\n",
       "  'category': 'bevarage'},\n",
       " '129': {'prod_name': 'chocolate biscuits',\n",
       "  'price': 20,\n",
       "  'quantity': 200,\n",
       "  'brand': 'sunfeast',\n",
       "  'category': 'biscuits'},\n",
       " '130': {'prod_name': 'muffins',\n",
       "  'price': 50,\n",
       "  'quantity': 40,\n",
       "  'brand': 'little bites',\n",
       "  'category': 'bakery'}}"
      ]
     },
     "execution_count": 10,
     "metadata": {},
     "output_type": "execute_result"
    }
   ],
   "source": [
    "inventory"
   ]
  },
  {
   "cell_type": "markdown",
   "id": "739e269f",
   "metadata": {},
   "source": [
    "## Add Product"
   ]
  },
  {
   "cell_type": "code",
   "execution_count": 13,
   "id": "5bda3f17",
   "metadata": {},
   "outputs": [
    {
     "name": "stdout",
     "output_type": "stream",
     "text": [
      "enter product id: 131\n",
      "enter product name: toffy\n",
      "enter price of product: 10\n",
      "enter quantity of product: 400\n",
      "enter brand of product: eclairs\n",
      "enter category of product: candies\n",
      "\n",
      " product is added\n"
     ]
    }
   ],
   "source": [
    "prod_id=int(input(\"enter product id: \"))\n",
    "name=input(\"enter product name: \")\n",
    "pr=int(input(\"enter price of product: \"))\n",
    "qn=int(input(\"enter quantity of product: \"))\n",
    "br=input(\"enter brand of product: \")\n",
    "catg=input(\"enter category of product: \")\n",
    "\n",
    "if prod_id in inventory:\n",
    "    print(\"***product id is already rgistered***\")\n",
    "else:\n",
    "    inventory[prod_id] = {'prod_name': name, 'price': pr, 'quantity': qn, 'brand':br , 'category':catg}\n",
    "    print(\"\\n product is added\")\n"
   ]
  },
  {
   "cell_type": "code",
   "execution_count": 14,
   "id": "642706ef",
   "metadata": {},
   "outputs": [],
   "source": [
    "inv=json.dumps(inventory)\n",
    "fd= open('inventory.json','w')\n",
    "fd.write(inv)\n",
    "fd.close()"
   ]
  },
  {
   "cell_type": "code",
   "execution_count": 15,
   "id": "ebd09f48",
   "metadata": {},
   "outputs": [],
   "source": [
    "fd= open('inventory.txt','w')\n",
    "fd.write(inv)\n",
    "fd.close()"
   ]
  },
  {
   "cell_type": "code",
   "execution_count": 16,
   "id": "35f494bf",
   "metadata": {},
   "outputs": [
    {
     "data": {
      "text/plain": [
       "{'101': {'prod_name': 'chocolate',\n",
       "  'price': 10,\n",
       "  'quantity': 200,\n",
       "  'brand': 'cadburry',\n",
       "  'category': 'chocolate'},\n",
       " '102': {'prod_name': 'soft drink',\n",
       "  'price': 20,\n",
       "  'quantity': 80,\n",
       "  'brand': 'coca-cola',\n",
       "  'category': 'bevarage'},\n",
       " '103': {'prod_name': 'Chips',\n",
       "  'price': 15,\n",
       "  'quantity': 200,\n",
       "  'brand': 'lays',\n",
       "  'category': 'snacks'},\n",
       " '104': {'prod_name': 'chocolate cake',\n",
       "  'price': 500,\n",
       "  'quantity': 10,\n",
       "  'brand': 'monginis',\n",
       "  'category': 'bakery'},\n",
       " '105': {'prod_name': 'cofee',\n",
       "  'price': 40,\n",
       "  'quantity': 100,\n",
       "  'brand': 'nes-cafe',\n",
       "  'category': 'bevarage'},\n",
       " '106': {'prod_name': 'almonds packet',\n",
       "  'price': 200,\n",
       "  'quantity': 50,\n",
       "  'brand': 'sofit',\n",
       "  'category': 'dry fruits'},\n",
       " '107': {'prod_name': 'milk chocolates',\n",
       "  'price': 15,\n",
       "  'quantity': 50,\n",
       "  'brand': 'milkibar',\n",
       "  'category': 'chocolate'},\n",
       " '108': {'prod_name': 'jelly',\n",
       "  'price': 5,\n",
       "  'quantity': 500,\n",
       "  'brand': 'jelly bites',\n",
       "  'category': 'candies'},\n",
       " '109': {'prod_name': 'fruit juice',\n",
       "  'price': 40,\n",
       "  'quantity': 50,\n",
       "  'brand': 'fruity',\n",
       "  'category': 'bevarage'},\n",
       " '110': {'prod_name': 'bread',\n",
       "  'price': 30,\n",
       "  'quantity': 20,\n",
       "  'brand': 'britania',\n",
       "  'category': 'bakery'},\n",
       " '111': {'prod_name': 'soyasticks',\n",
       "  'price': 80,\n",
       "  'quantity': 50,\n",
       "  'brand': 'haldiram',\n",
       "  'category': 'snacks'},\n",
       " '112': {'prod_name': 'mints',\n",
       "  'price': 10,\n",
       "  'quantity': 200,\n",
       "  'brand': 'mentos',\n",
       "  'category': 'candies'},\n",
       " '113': {'prod_name': 'coconut milk',\n",
       "  'price': 45,\n",
       "  'quantity': 30,\n",
       "  'brand': 'dabur',\n",
       "  'category': 'bevarage'},\n",
       " '114': {'prod_name': 'oreo biscuits',\n",
       "  'price': 10,\n",
       "  'quantity': 100,\n",
       "  'brand': 'oreo',\n",
       "  'category': 'biscuits'},\n",
       " '115': {'prod_name': 'dark chocolates',\n",
       "  'price': 20,\n",
       "  'quantity': 50,\n",
       "  'brand': 'bournville',\n",
       "  'category': 'chocolate'},\n",
       " '116': {'prod_name': 'berries',\n",
       "  'price': 150,\n",
       "  'quantity': 80,\n",
       "  'brand': 'berry',\n",
       "  'category': 'dry fruits'},\n",
       " '117': {'prod_name': 'peanuts',\n",
       "  'price': 100,\n",
       "  'quantity': 100,\n",
       "  'brand': 'dabur',\n",
       "  'category': 'dry fruits'},\n",
       " '118': {'prod_name': 'milk powder',\n",
       "  'price': 40,\n",
       "  'quantity': 25,\n",
       "  'brand': 'nestle',\n",
       "  'category': 'bakery'},\n",
       " '119': {'prod_name': 'maggy',\n",
       "  'price': 12,\n",
       "  'quantity': 250,\n",
       "  'brand': 'nestle',\n",
       "  'category': 'snacks'},\n",
       " '120': {'prod_name': 'lollipops',\n",
       "  'price': 10,\n",
       "  'quantity': 500,\n",
       "  'brand': 'popon',\n",
       "  'category': 'candies'},\n",
       " '121': {'prod_name': 'belgian chocolate',\n",
       "  'price': 40,\n",
       "  'quantity': 50,\n",
       "  'brand': 'walkers',\n",
       "  'category': 'chocolate'},\n",
       " '122': {'prod_name': 'milano',\n",
       "  'price': 50,\n",
       "  'quantity': 50,\n",
       "  'brand': 'parle',\n",
       "  'category': 'biscuits'},\n",
       " '123': {'prod_name': 'energy drinks',\n",
       "  'price': 30,\n",
       "  'quantity': 70,\n",
       "  'brand': 'gatorade',\n",
       "  'category': 'bevarage'},\n",
       " '124': {'prod_name': 'dates',\n",
       "  'price': 50,\n",
       "  'quantity': 100,\n",
       "  'brand': 'lion',\n",
       "  'category': 'dry fruits'},\n",
       " '125': {'prod_name': 'dryfruit chocolate',\n",
       "  'price': 30,\n",
       "  'quantity': 20,\n",
       "  'brand': 'britania',\n",
       "  'cadburry': 'chocolate'},\n",
       " '126': {'prod_name': 'fruit chews',\n",
       "  'price': 10,\n",
       "  'quantity': 50,\n",
       "  'brand': 'jolly',\n",
       "  'category': 'candies'},\n",
       " '127': {'prod_name': 'swiss chocolates',\n",
       "  'price': 45,\n",
       "  'quantity': 25,\n",
       "  'brand': 'lindt',\n",
       "  'category': 'chocolate'},\n",
       " '128': {'prod_name': 'mango juice',\n",
       "  'price': 20,\n",
       "  'quantity': 100,\n",
       "  'brand': 'slice',\n",
       "  'category': 'bevarage'},\n",
       " '129': {'prod_name': 'chocolate biscuits',\n",
       "  'price': 20,\n",
       "  'quantity': 200,\n",
       "  'brand': 'sunfeast',\n",
       "  'category': 'biscuits'},\n",
       " '130': {'prod_name': 'muffins',\n",
       "  'price': 50,\n",
       "  'quantity': 40,\n",
       "  'brand': 'little bites',\n",
       "  'category': 'bakery'},\n",
       " 131: {'prod_name': 'toffy',\n",
       "  'price': 10,\n",
       "  'quantity': 400,\n",
       "  'brand': 'eclairs',\n",
       "  'category': 'candies'}}"
      ]
     },
     "execution_count": 16,
     "metadata": {},
     "output_type": "execute_result"
    }
   ],
   "source": [
    "inventory"
   ]
  },
  {
   "cell_type": "markdown",
   "id": "032b44f9",
   "metadata": {},
   "source": [
    "## update Quantity of product"
   ]
  },
  {
   "cell_type": "code",
   "execution_count": null,
   "id": "83e4f601",
   "metadata": {},
   "outputs": [],
   "source": [
    "up_id=input(\"enter id of product: \")\n",
    "up_qn=int(input(\"enter quantity to be add: \"))\n",
    "inventory[up_id]['quantity']=inventory[up_id]['quantity']+up_qn\n"
   ]
  },
  {
   "cell_type": "code",
   "execution_count": null,
   "id": "958d7a4f",
   "metadata": {},
   "outputs": [],
   "source": [
    "inv=json.dumps(inventory)\n",
    "fd= open('inventory.json','w')\n",
    "fd.write(inv)\n",
    "fd.close()"
   ]
  },
  {
   "cell_type": "code",
   "execution_count": null,
   "id": "72d88edc",
   "metadata": {},
   "outputs": [],
   "source": [
    "fd= open('inventory.txt','w')\n",
    "fd.write(inv)\n",
    "fd.close()"
   ]
  },
  {
   "cell_type": "code",
   "execution_count": null,
   "id": "a199cc2c",
   "metadata": {},
   "outputs": [],
   "source": [
    "inventory"
   ]
  },
  {
   "cell_type": "markdown",
   "id": "e55945a3",
   "metadata": {},
   "source": [
    "## Update Price of product"
   ]
  },
  {
   "cell_type": "code",
   "execution_count": null,
   "id": "d76aa77f",
   "metadata": {},
   "outputs": [],
   "source": [
    "pr_id=input(\"enter id of product: \")\n",
    "pr_pr=int(input(\"enter updated price: \"))\n",
    "inventory[pr_id]['price']=pr_pr\n"
   ]
  },
  {
   "cell_type": "code",
   "execution_count": null,
   "id": "5398c3ba",
   "metadata": {},
   "outputs": [],
   "source": [
    "inv=json.dumps(inventory)\n",
    "fd= open('inventory.json','w')\n",
    "fd.write(inv)\n",
    "fd.close()"
   ]
  },
  {
   "cell_type": "code",
   "execution_count": null,
   "id": "44e6387c",
   "metadata": {},
   "outputs": [],
   "source": [
    "fd= open('inventory.txt','w')\n",
    "fd.write(inv)\n",
    "fd.close()"
   ]
  },
  {
   "cell_type": "code",
   "execution_count": null,
   "id": "cdbdd679",
   "metadata": {},
   "outputs": [],
   "source": [
    "inventory"
   ]
  },
  {
   "cell_type": "markdown",
   "id": "b3e82195",
   "metadata": {},
   "source": [
    "## Delete Item"
   ]
  },
  {
   "cell_type": "code",
   "execution_count": null,
   "id": "b67f4c64",
   "metadata": {},
   "outputs": [],
   "source": [
    "del_id=input(\"enter id of product\")\n",
    "if del_id in inv:\n",
    "    del inventory[prod_id]\n",
    "    print(\"product record deleted successfully\")\n",
    "else:\n",
    "    print(\"product id not found!!!\")\n",
    "    \n"
   ]
  },
  {
   "cell_type": "code",
   "execution_count": null,
   "id": "d3d5b2ee",
   "metadata": {},
   "outputs": [],
   "source": [
    "inv=json.dumps(inventory)\n",
    "fd= open('inventory.json','w')\n",
    "fd.write(inv)\n",
    "fd.close()"
   ]
  },
  {
   "cell_type": "code",
   "execution_count": null,
   "id": "e3640f4a",
   "metadata": {},
   "outputs": [],
   "source": [
    "fd= open('inventory.txt','w')\n",
    "fd.write(inv)\n",
    "fd.close()"
   ]
  },
  {
   "cell_type": "code",
   "execution_count": null,
   "id": "71e1464c",
   "metadata": {},
   "outputs": [],
   "source": [
    "inventory"
   ]
  },
  {
   "cell_type": "markdown",
   "id": "1d51a39f",
   "metadata": {},
   "source": [
    "## Purchasing The Product"
   ]
  },
  {
   "cell_type": "code",
   "execution_count": 17,
   "id": "cc32da25",
   "metadata": {},
   "outputs": [
    {
     "name": "stdout",
     "output_type": "stream",
     "text": [
      "enter product id: 111\n",
      "enter quantity: 5\n",
      "=============================================================\n",
      "\n",
      "****BILL RECEIPT****\n",
      "----------------------------------\n",
      "product name:  soyasticks\n",
      "price:  80\n",
      "-----------------------------------\n",
      "billing amount 400\n",
      "\n",
      "=============================================================\n"
     ]
    }
   ],
   "source": [
    "ui_id=input(\"enter product id: \")\n",
    "ui_qn=int(input(\"enter quantity: \"))\n",
    "\n",
    "if ui_qn > inventory[ui_id]['quantity']:\n",
    "    print(\"The maximum quantity of product is: \",inventory[ui_id]['quantity'] )\n",
    "else:\n",
    "    print(\"=============================================================\\n\")\n",
    "    print(\"****BILL RECEIPT****\")\n",
    "    print(\"----------------------------------\")\n",
    "    print(\"product name: \", inventory[ui_id]['prod_name'])\n",
    "    print(\"price: \" , inventory[ui_id]['price'])\n",
    "    print(\"-----------------------------------\")\n",
    "    print(\"billing amount: \" , inventory[ui_id]['price']*ui_qn)\n",
    "    print(\"\\n=============================================================\")\n",
    "    inventory[ui_id]['quantity']=inventory[ui_id]['quantity']-ui_qn"
   ]
  },
  {
   "cell_type": "code",
   "execution_count": 18,
   "id": "ba409fd9",
   "metadata": {},
   "outputs": [],
   "source": [
    "inv=json.dumps(inventory)\n",
    "fd= open('inventory.json','w')\n",
    "fd.write(inv)\n",
    "fd.close()"
   ]
  },
  {
   "cell_type": "code",
   "execution_count": 19,
   "id": "9c8ef172",
   "metadata": {},
   "outputs": [],
   "source": [
    "fd= open('inventory.txt','w')\n",
    "fd.write(inv)\n",
    "fd.close()"
   ]
  },
  {
   "cell_type": "markdown",
   "id": "8b9d37e6",
   "metadata": {},
   "source": [
    "## Updating Transaction In Sales File"
   ]
  },
  {
   "cell_type": "code",
   "execution_count": 20,
   "id": "46e8f3d2",
   "metadata": {},
   "outputs": [],
   "source": [
    "sales= {'product_id': ui_id , 'prod_name':inventory[ui_id]['prod_name'] , 'price': inventory[ui_id]['price']*ui_qn , 'quantity': ui_qn , 'time' : time.ctime()}\n"
   ]
  },
  {
   "cell_type": "code",
   "execution_count": 21,
   "id": "6547f3d5",
   "metadata": {},
   "outputs": [],
   "source": [
    "sl=json.dumps(sales)\n",
    "fd= open('sales.json','a')\n",
    "fd.write(sl)\n",
    "fd.close()"
   ]
  },
  {
   "cell_type": "code",
   "execution_count": 22,
   "id": "713e0090",
   "metadata": {},
   "outputs": [
    {
     "data": {
      "text/plain": [
       "{'product_id': '111',\n",
       " 'prod_name': 'soyasticks',\n",
       " 'price': 400,\n",
       " 'quantity': 5,\n",
       " 'time': 'Mon Sep  6 17:40:25 2021'}"
      ]
     },
     "execution_count": 22,
     "metadata": {},
     "output_type": "execute_result"
    }
   ],
   "source": [
    "sales"
   ]
  },
  {
   "cell_type": "code",
   "execution_count": null,
   "id": "4039f6b1",
   "metadata": {},
   "outputs": [],
   "source": []
  }
 ],
 "metadata": {
  "kernelspec": {
   "display_name": "Python 3",
   "language": "python",
   "name": "python3"
  },
  "language_info": {
   "codemirror_mode": {
    "name": "ipython",
    "version": 3
   },
   "file_extension": ".py",
   "mimetype": "text/x-python",
   "name": "python",
   "nbconvert_exporter": "python",
   "pygments_lexer": "ipython3",
   "version": "3.8.8"
  }
 },
 "nbformat": 4,
 "nbformat_minor": 5
}
